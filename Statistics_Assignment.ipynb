{
  "nbformat": 4,
  "nbformat_minor": 0,
  "metadata": {
    "colab": {
      "provenance": [],
      "mount_file_id": "1sRhVbi3IxnaeO4AxIzit9uPIDiYkEruF",
      "authorship_tag": "ABX9TyPVP0esun1jqiQaE/x+QYM+",
      "include_colab_link": true
    },
    "kernelspec": {
      "name": "python3",
      "display_name": "Python 3"
    },
    "language_info": {
      "name": "python"
    }
  },
  "cells": [
    {
      "cell_type": "markdown",
      "metadata": {
        "id": "view-in-github",
        "colab_type": "text"
      },
      "source": [
        "<a href=\"https://colab.research.google.com/github/SimaliNaaz/PWSKILLS/blob/main/Statistics_Assignment.ipynb\" target=\"_parent\"><img src=\"https://colab.research.google.com/assets/colab-badge.svg\" alt=\"Open In Colab\"/></a>"
      ]
    },
    {
      "cell_type": "markdown",
      "source": [
        "1.Generate a list 100 integers containing values between 90 to 30 and store it in the variable `int_list`.\n",
        "After generating the list, find the following:"
      ],
      "metadata": {
        "id": "u_uf2-BoCoy3"
      }
    },
    {
      "cell_type": "code",
      "source": [
        "import random\n",
        "int_list=[random.randint(90,130) for _ in range(100)]\n",
        "print(int_list)"
      ],
      "metadata": {
        "colab": {
          "base_uri": "https://localhost:8080/"
        },
        "id": "tgWp1FNVJ7dZ",
        "outputId": "b30d0783-1e76-4c0f-9f26-0f128c11dd00"
      },
      "execution_count": 1,
      "outputs": [
        {
          "output_type": "stream",
          "name": "stdout",
          "text": [
            "[119, 92, 117, 90, 95, 130, 109, 115, 113, 119, 105, 106, 113, 90, 108, 105, 106, 99, 104, 95, 99, 90, 126, 130, 114, 98, 101, 101, 111, 111, 103, 114, 94, 90, 112, 105, 130, 116, 102, 95, 112, 125, 127, 115, 123, 107, 125, 100, 97, 103, 103, 110, 109, 112, 120, 91, 92, 98, 99, 94, 104, 114, 97, 115, 102, 108, 105, 125, 93, 94, 101, 128, 113, 126, 112, 118, 122, 90, 101, 111, 100, 124, 110, 104, 107, 125, 104, 128, 94, 90, 120, 113, 115, 124, 118, 107, 122, 121, 99, 98]\n"
          ]
        }
      ]
    },
    {
      "cell_type": "markdown",
      "source": [
        "  (i) Write a Python function to calculate the mean of a given list of numbers.\n",
        "\n",
        "Create a function to find the median of a list of numbers."
      ],
      "metadata": {
        "id": "dHCfwiDHCzag"
      }
    },
    {
      "cell_type": "code",
      "source": [
        "import random\n",
        "int_list=[random.randint(90,130) for _ in range(100)]\n",
        "def calculate_mean(numbers):\n",
        "  return sum(numbers)/len(numbers)\n",
        "mean_value=calculate_mean(int_list)\n",
        "print(int_list)\n",
        "print(\"Mean:\",mean_value)\n"
      ],
      "metadata": {
        "colab": {
          "base_uri": "https://localhost:8080/"
        },
        "id": "-aVKLb4sC1Bk",
        "outputId": "79ff2c29-6ac7-44d9-a6fb-76545bf38b9c"
      },
      "execution_count": 2,
      "outputs": [
        {
          "output_type": "stream",
          "name": "stdout",
          "text": [
            "[106, 93, 97, 90, 103, 125, 99, 115, 111, 92, 124, 90, 113, 106, 129, 100, 97, 126, 95, 102, 103, 109, 104, 123, 107, 103, 122, 115, 114, 109, 125, 128, 93, 115, 97, 91, 124, 108, 96, 99, 92, 98, 99, 122, 125, 97, 104, 125, 112, 130, 110, 116, 110, 129, 115, 90, 130, 115, 107, 116, 101, 129, 126, 122, 92, 121, 101, 92, 98, 127, 116, 108, 100, 93, 115, 113, 125, 125, 93, 100, 128, 111, 96, 120, 94, 118, 106, 113, 101, 129, 103, 119, 103, 94, 104, 129, 94, 101, 119, 106]\n",
            "Mean: 109.25\n"
          ]
        }
      ]
    },
    {
      "cell_type": "markdown",
      "source": [
        " (ii) Develop a program to compute the mode of a list of integers"
      ],
      "metadata": {
        "id": "4K_N9t7wFaQU"
      }
    },
    {
      "cell_type": "code",
      "source": [
        "import random\n",
        "from collections import Counter\n",
        "int_list=[random.randint(90,130) for _ in range(100)]\n",
        "def calculate_mode(numbers):\n",
        "  frequency=Counter(numbers)\n",
        "  max_frequency=max(frequency.values())\n",
        "  mode=[num for num,freq in frequency.items() if freq==max_frequency]\n",
        "  return mode\n",
        "mode_value=calculate_mode(int_list)\n",
        "print(f\"Generated List : {int_list}\")\n",
        "print(f\"mode:{mode_value}\")\n",
        "\n",
        "\n"
      ],
      "metadata": {
        "colab": {
          "base_uri": "https://localhost:8080/"
        },
        "id": "uBt0t1O_FhKf",
        "outputId": "8cb39a48-fc0f-4fd3-c00d-6159bc423107"
      },
      "execution_count": 3,
      "outputs": [
        {
          "output_type": "stream",
          "name": "stdout",
          "text": [
            "Generated List : [116, 122, 100, 123, 107, 104, 114, 93, 118, 119, 97, 109, 92, 115, 109, 121, 101, 129, 118, 106, 124, 100, 110, 105, 103, 114, 109, 110, 102, 94, 91, 114, 96, 104, 92, 125, 110, 105, 118, 100, 92, 108, 91, 90, 94, 109, 100, 92, 124, 97, 124, 94, 105, 106, 95, 104, 102, 112, 113, 96, 120, 122, 108, 96, 112, 127, 101, 93, 127, 122, 99, 126, 121, 107, 129, 117, 122, 112, 121, 125, 125, 108, 109, 123, 94, 107, 112, 103, 113, 105, 108, 104, 113, 117, 97, 108, 91, 129, 122, 100]\n",
            "mode:[122, 100, 109, 108]\n"
          ]
        }
      ]
    },
    {
      "cell_type": "markdown",
      "source": [
        "   (iii)Implement a function to calculate the weighted mean of a list of values and their corresponding weights"
      ],
      "metadata": {
        "id": "BSowVbNNK_Ui"
      }
    },
    {
      "cell_type": "code",
      "source": [
        "import random\n",
        "import numpy as np\n",
        "int_list=[random.randint(90,130) for _ in range(100)]\n",
        "weights=[random.random() for _ in range(100)]\n",
        "def weighted_mean(values,weights):\n",
        "     return np.average(values,weights=weights)\n",
        "wm=weighted_mean(int_list,weights)\n",
        "print(\"weighted mean\",wm)\n",
        "\n",
        "\n",
        "\n",
        "\n",
        "\n"
      ],
      "metadata": {
        "colab": {
          "base_uri": "https://localhost:8080/"
        },
        "outputId": "2b77c8c2-70b0-4637-ef36-2ddcec735c7b",
        "id": "KWMO3sGhL1B6"
      },
      "execution_count": 4,
      "outputs": [
        {
          "output_type": "stream",
          "name": "stdout",
          "text": [
            "weighted mean 106.72119895539589\n"
          ]
        }
      ]
    },
    {
      "cell_type": "markdown",
      "source": [
        "  (iv)  Write a Python function to find the geometric mean of a list of positive numbers.\n",
        "\n"
      ],
      "metadata": {
        "id": "hzEa3ULAQBsP"
      }
    },
    {
      "source": [
        "import math\n",
        "import random\n",
        "from typing import List\n",
        "int_list=[random.randint(90,130) for _ in range(100)]\n",
        "def geometric_mean(numbers:List[float])-> float:\n",
        "   if len(numbers)==0 or any(x<=0 for x in numbers):\n",
        "     return None\n",
        "   product=math.prod(numbers)\n",
        "   return product**(1/len(numbers))\n",
        "geo_mean=geometric_mean(int_list)\n",
        "print(\"Geometric Mean:\",geo_mean)"
      ],
      "cell_type": "code",
      "metadata": {
        "colab": {
          "base_uri": "https://localhost:8080/"
        },
        "id": "-729tETQvE_i",
        "outputId": "f3015f91-fe5a-41a7-a8dd-694e30c2eab9"
      },
      "execution_count": 5,
      "outputs": [
        {
          "output_type": "stream",
          "name": "stdout",
          "text": [
            "Geometric Mean: 111.92031205029137\n"
          ]
        }
      ]
    },
    {
      "cell_type": "markdown",
      "source": [
        "  (v) Create a program to calculate the harmonic mean of a list of values."
      ],
      "metadata": {
        "id": "CKDSaUM4wEz5"
      }
    },
    {
      "cell_type": "code",
      "source": [
        "import random\n",
        "import statistics\n",
        "int_list=[random.randint(90,130) for _ in range(100)]\n",
        "harmonic_mean=statistics.harmonic_mean(int_list)\n",
        "print(\"Harmonic Mean:\",harmonic_mean)"
      ],
      "metadata": {
        "colab": {
          "base_uri": "https://localhost:8080/"
        },
        "id": "yS0gMk-_wOH7",
        "outputId": "f8c2b9f4-dd66-4acd-baea-fd13ca8bfae4"
      },
      "execution_count": 6,
      "outputs": [
        {
          "output_type": "stream",
          "name": "stdout",
          "text": [
            "Harmonic Mean: 106.81234255899577\n"
          ]
        }
      ]
    },
    {
      "cell_type": "markdown",
      "source": [
        "  (vi) Build a function to determine the midrange of a list of numbers (average of the minimum and maximum)."
      ],
      "metadata": {
        "id": "datRiQBLyZJu"
      }
    },
    {
      "cell_type": "code",
      "source": [
        "import random\n",
        "int_list=[random.randint(90,130) for _ in range(100)]\n",
        "def calculate_midrange(numbers):\n",
        "  minimum=min(numbers)\n",
        "  maximum=max(numbers)\n",
        "  midrange=(minimum+maximum)/2\n",
        "  return midrange\n",
        "midrange_value=calculate_midrange(int_list)\n",
        "print(\"midrange:\",midrange_value)\n"
      ],
      "metadata": {
        "colab": {
          "base_uri": "https://localhost:8080/"
        },
        "id": "gzSAv6TxyZY7",
        "outputId": "57f1844f-209e-43ec-cd3e-6719edca1516"
      },
      "execution_count": 7,
      "outputs": [
        {
          "output_type": "stream",
          "name": "stdout",
          "text": [
            "midrange: 110.0\n"
          ]
        }
      ]
    },
    {
      "cell_type": "markdown",
      "source": [
        "  (vii) Implement a Python program to find the trimmed mean of a list, excluding a certain percentage of\n",
        "outliers."
      ],
      "metadata": {
        "id": "iAKr-T4t0RP3"
      }
    },
    {
      "cell_type": "code",
      "source": [
        "import random\n",
        "import statistics\n",
        "int_list=[random.randint(90,130) for _ in range(100)]\n",
        "def trimmed_mean(numbers,percentage):\n",
        "  sorted_numbers=sorted(numbers)\n",
        "  trim_count=int(len(sorted_numbers)*percentage/100)\n",
        "  trimmed_numbers=sorted_numbers[trim_count:- trim_count]\n",
        "  return statistics.mean(trimmed_numbers)\n",
        "percentage_to_trim=int(input(\"Enter the percentage of values to exclude:\"))\n",
        "print(\"Trimmed Mean:\",trimmed_mean(int_list,percentage_to_trim))\n"
      ],
      "metadata": {
        "colab": {
          "base_uri": "https://localhost:8080/"
        },
        "id": "XvdOPZfi1Nvo",
        "outputId": "51bd10b1-9582-4d72-b5c5-1128e57223f5"
      },
      "execution_count": 8,
      "outputs": [
        {
          "output_type": "stream",
          "name": "stdout",
          "text": [
            "Enter the percentage of values to exclude:2\n",
            "Trimmed Mean: 110.1875\n"
          ]
        }
      ]
    },
    {
      "cell_type": "markdown",
      "source": [
        " 2. Generate a list of 500 integers containing values between 200 to 300 and store it in the variable `int_list2`.\n",
        "After generating the list, find the following:\n",
        " (i) Compare the given list of visualization for the given data:\n",
        "1. Frequency & Gaussian distribution\n",
        "\n",
        "  "
      ],
      "metadata": {
        "id": "FXZsEN0O9lQO"
      }
    },
    {
      "cell_type": "code",
      "source": [
        "import random\n",
        "int_list2 = [random.randint(200, 300) for _ in range(500)]\n",
        "print(int_list2)\n",
        "\n"
      ],
      "metadata": {
        "colab": {
          "base_uri": "https://localhost:8080/"
        },
        "id": "d8DyWMVGKjiD",
        "outputId": "e152dfab-bf9a-4131-c466-b8c174662a16"
      },
      "execution_count": 9,
      "outputs": [
        {
          "output_type": "stream",
          "name": "stdout",
          "text": [
            "[200, 289, 236, 275, 257, 245, 255, 209, 215, 205, 229, 215, 250, 252, 211, 205, 222, 268, 288, 277, 243, 248, 242, 263, 274, 226, 256, 282, 214, 213, 280, 215, 237, 227, 234, 236, 267, 278, 218, 222, 207, 245, 236, 222, 241, 227, 288, 232, 293, 294, 280, 211, 236, 247, 239, 259, 259, 269, 232, 230, 267, 246, 280, 245, 300, 250, 222, 266, 229, 297, 265, 204, 263, 222, 214, 253, 215, 294, 235, 253, 267, 226, 284, 230, 204, 273, 300, 288, 238, 274, 228, 274, 226, 223, 279, 275, 200, 235, 264, 227, 250, 216, 288, 265, 205, 251, 262, 232, 234, 253, 218, 232, 271, 225, 263, 289, 211, 289, 281, 217, 203, 276, 230, 219, 217, 249, 268, 258, 271, 220, 257, 214, 270, 278, 275, 279, 231, 246, 260, 208, 274, 207, 229, 230, 284, 269, 295, 255, 266, 242, 277, 207, 226, 257, 275, 232, 207, 204, 277, 261, 202, 300, 292, 257, 262, 212, 251, 224, 211, 224, 256, 204, 255, 295, 220, 208, 201, 233, 243, 266, 213, 258, 267, 242, 202, 269, 248, 202, 233, 251, 243, 207, 215, 297, 272, 242, 230, 228, 242, 281, 262, 296, 211, 207, 210, 255, 300, 210, 213, 292, 248, 232, 274, 234, 214, 206, 300, 260, 231, 294, 230, 291, 252, 295, 273, 270, 216, 234, 272, 219, 258, 287, 278, 208, 254, 204, 278, 239, 268, 255, 206, 206, 273, 242, 239, 277, 219, 244, 260, 214, 286, 237, 222, 255, 261, 284, 216, 223, 244, 201, 207, 237, 225, 239, 246, 227, 268, 232, 200, 251, 205, 247, 265, 238, 290, 212, 253, 221, 251, 249, 221, 216, 292, 276, 231, 239, 232, 285, 265, 274, 200, 245, 236, 203, 273, 292, 285, 218, 247, 239, 230, 283, 251, 250, 299, 282, 235, 233, 260, 212, 239, 279, 247, 267, 288, 224, 258, 264, 219, 238, 220, 220, 253, 297, 276, 273, 205, 249, 224, 251, 292, 265, 240, 282, 262, 230, 277, 230, 244, 299, 226, 204, 223, 210, 253, 208, 216, 239, 264, 225, 271, 207, 268, 283, 274, 297, 288, 224, 283, 205, 244, 242, 203, 298, 283, 272, 211, 269, 245, 232, 201, 243, 273, 233, 222, 203, 265, 201, 297, 250, 265, 276, 276, 262, 267, 260, 288, 201, 242, 225, 269, 214, 228, 242, 287, 252, 263, 286, 259, 280, 273, 269, 273, 244, 234, 218, 205, 218, 235, 252, 251, 213, 232, 262, 296, 237, 204, 278, 281, 207, 235, 293, 221, 271, 261, 273, 200, 213, 300, 294, 298, 269, 251, 230, 225, 227, 264, 213, 270, 217, 287, 253, 284, 284, 264, 280, 244, 206, 216, 210, 223, 298, 246, 287, 258, 263, 271, 260, 231, 276, 285, 293, 248, 227, 257, 273, 222, 207, 218, 236, 250, 288, 204, 207, 221, 289, 289, 285, 233, 276, 295, 221, 256, 269, 254, 233, 232, 299, 208, 297, 211, 202, 275, 222, 210, 276, 286, 219, 228, 267]\n"
          ]
        }
      ]
    },
    {
      "cell_type": "code",
      "source": [
        "import random\n",
        "import matplotlib.pyplot as plt\n",
        "import seaborn as sns\n",
        "from scipy.stats import norm\n",
        "int_list=[random.randint(200,300) for _ in range(500)]\n",
        "plt.figure(figsize=(10,6))\n",
        "sns.histplot(int_list2,bins=20,kde=False,color='skyblue',stat='density')\n",
        "mean=sum(int_list2)/len(int_list2)\n",
        "std_dev=(sum((x-mean)**2 for x in int_list2)/len(int_list2))**0.5\n",
        "x=range(200,301)\n",
        "plt.plot(x,norm.pdf(x,mean,std_dev),color='red')\n",
        "plt.title('Frequency & Gaussian Distribution')\n",
        "plt.xlabel('Values')\n",
        "plt.ylabel('Density')\n",
        "plt.show()\n"
      ],
      "metadata": {
        "colab": {
          "base_uri": "https://localhost:8080/",
          "height": 564
        },
        "id": "NPLDEGVf9zGs",
        "outputId": "66b55698-7a0c-4a65-f5f9-e4103c12702f"
      },
      "execution_count": 10,
      "outputs": [
        {
          "output_type": "display_data",
          "data": {
            "text/plain": [
              "<Figure size 1000x600 with 1 Axes>"
            ],
            "image/png": "[encoded data removed]"
          },
          "metadata": {}
        }
      ]
    },
    {
      "cell_type": "markdown",
      "source": [
        " 2. Frequency smoothened KDE plot"
      ],
      "metadata": {
        "id": "ADdChAhhB8Ik"
      }
    },
    {
      "cell_type": "code",
      "source": [
        "plt.figure(figsize=(10, 6))\n",
        "sns.histplot(int_list2, bins=20, kde=True, color='skyblue', stat='density')\n",
        "plt.title('Frequency & Smoothened KDE Plot')\n",
        "plt.xlabel('Value')\n",
        "plt.ylabel('Density')\n",
        "plt.show()\n"
      ],
      "metadata": {
        "colab": {
          "base_uri": "https://localhost:8080/",
          "height": 564
        },
        "id": "_Dcjs7oeB_f7",
        "outputId": "312a860d-02ed-4ef7-c25c-abdcea33aaa6"
      },
      "execution_count": 11,
      "outputs": [
        {
          "output_type": "display_data",
          "data": {
            "text/plain": [
              "<Figure size 1000x600 with 1 Axes>"
            ],
            "image/png": "[encoded data removed]"
          },
          "metadata": {}
        }
      ]
    },
    {
      "cell_type": "markdown",
      "source": [
        " 3. Gaussian distribution & smoothened KDE plot"
      ],
      "metadata": {
        "id": "9UaL3Y-fDHb3"
      }
    },
    {
      "cell_type": "code",
      "source": [
        "plt.figure(figsize=(10,6))\n",
        "sns.kdeplot(int_list2,color='blue')\n",
        "plt.plot(x,norm.pdf(x,mean,std_dev),color='red')\n",
        "plt.title('Gaussian Distributiion & Smoothened KDE Plot')\n",
        "plt.xlabel('Value')\n",
        "plt.ylabel('Denisty')\n",
        "plt.show()\n"
      ],
      "metadata": {
        "colab": {
          "base_uri": "https://localhost:8080/",
          "height": 564
        },
        "id": "X7xgqQQVDLLI",
        "outputId": "34d6a7b5-ba18-42ea-ee5d-95b142461418"
      },
      "execution_count": 12,
      "outputs": [
        {
          "output_type": "display_data",
          "data": {
            "text/plain": [
              "<Figure size 1000x600 with 1 Axes>"
            ],
            "image/png": "[encoded data removed]"
          },
          "metadata": {}
        }
      ]
    },
    {
      "cell_type": "markdown",
      "source": [
        " (ii) Write a Python function to calculate the range of a given list of numbers"
      ],
      "metadata": {
        "id": "DEeex5S9F4T7"
      }
    },
    {
      "cell_type": "code",
      "source": [
        "import random\n",
        "int_list2=[random.randint(200,300) for _ in range(500)]\n",
        "def calculate_range(numbers):\n",
        "  if len(numbers)==0:\n",
        "    return None\n",
        "  return max(numbers)-min(numbers)\n",
        "range_of_list=calculate_range(int_list2)\n",
        "print(\"Range of the list:\",range_of_list)\n"
      ],
      "metadata": {
        "colab": {
          "base_uri": "https://localhost:8080/"
        },
        "id": "ozLzXxLyF6Hq",
        "outputId": "373e4409-d37e-4a1a-f35f-df6149792b02"
      },
      "execution_count": 13,
      "outputs": [
        {
          "output_type": "stream",
          "name": "stdout",
          "text": [
            "Range of the list: 100\n"
          ]
        }
      ]
    },
    {
      "cell_type": "markdown",
      "source": [
        " (iii) Create a program to find the variance and standard deviation of a list of numbers"
      ],
      "metadata": {
        "id": "2a0qetXVMDDb"
      }
    },
    {
      "cell_type": "code",
      "source": [
        "import random\n",
        "import statistics\n",
        "int_list2 = [random.randint(200, 300) for _ in range(500)]\n",
        "variance = statistics.variance(int_list2)\n",
        "std_dev = statistics.stdev(int_list2)\n",
        "print(\"Variance:\", variance)\n",
        "print(\"Standard Deviation:\", std_dev)\n",
        "\n"
      ],
      "metadata": {
        "colab": {
          "base_uri": "https://localhost:8080/"
        },
        "id": "V1obmw5sMGmL",
        "outputId": "8aa8b81f-3c41-4122-8978-8f914e4c8c3c"
      },
      "execution_count": 14,
      "outputs": [
        {
          "output_type": "stream",
          "name": "stdout",
          "text": [
            "Variance: 887.1697755511022\n",
            "Standard Deviation: 29.785395339849064\n"
          ]
        }
      ]
    },
    {
      "cell_type": "markdown",
      "source": [
        " (iv) Implement a function to compute the interquartile range (IQR) of a list of values"
      ],
      "metadata": {
        "id": "BZGS70L9PjHy"
      }
    },
    {
      "cell_type": "code",
      "source": [
        "import random\n",
        "import statistics\n",
        "int_list2=[random.randint(200,300) for _ in range(500)]\n",
        "def interquartile_range(numbers):\n",
        "  if len(numbers)==0:\n",
        "    return None\n",
        "  sorted_numbers=sorted(numbers)\n",
        "  mid_index=len(sorted_numbers) // 2\n",
        "  if len(sorted_numbers)%2==0:\n",
        "    lower_half=sorted_numbers[:mid_index]\n",
        "    upper_half=sorted_numbers[mid_index:]\n",
        "  else:\n",
        "    lower_half=sorted_number[:mid_index]\n",
        "    upper_half=sorted_numbers[mid_index +1 :]\n",
        "  q1=statistics.median(lower_half)\n",
        "  q3=statistics.median(upper_half)\n",
        "  iqr=q3-q1\n",
        "  return iqr\n",
        "iqr_value=interquartile_range(int_list2)\n",
        "print(\"Interquartile Range(IQR):\",iqr_value)\n"
      ],
      "metadata": {
        "colab": {
          "base_uri": "https://localhost:8080/"
        },
        "id": "3191N7IkPnEF",
        "outputId": "fe7ce50b-2331-4e07-eeb4-2a4fc314b9f4"
      },
      "execution_count": 15,
      "outputs": [
        {
          "output_type": "stream",
          "name": "stdout",
          "text": [
            "Interquartile Range(IQR): 50.0\n"
          ]
        }
      ]
    },
    {
      "cell_type": "markdown",
      "source": [
        "(v) Build a program to calculate the coefficient of variation for a dataset."
      ],
      "metadata": {
        "id": "wjhPCynj5aLz"
      }
    },
    {
      "cell_type": "code",
      "source": [
        "import random\n",
        "import statistics\n",
        "int_list2=[random.randint(200,300) for _ in range (500)]\n",
        "def coefficient_of_variation(numbers):\n",
        "  if len(numbers)==0:\n",
        "    return None\n",
        "  mean=statistics.mean(numbers)\n",
        "  std_dev=statistics.stdev(numbers)\n",
        "  if mean==0:\n",
        "    return None\n",
        "  cv=(std_dev/mean)*100\n",
        "  return cv\n",
        "cv_value=coefficient_of_variation(int_list2)\n",
        "print(\"Coefficient of variation(cv):{:2f}%\".format(cv_value))\n"
      ],
      "metadata": {
        "colab": {
          "base_uri": "https://localhost:8080/"
        },
        "id": "qDhpAkFp5eF8",
        "outputId": "ad88377b-e08d-4f2a-fdd9-4f7696abbd65"
      },
      "execution_count": 16,
      "outputs": [
        {
          "output_type": "stream",
          "name": "stdout",
          "text": [
            "Coefficient of variation(cv):11.758707%\n"
          ]
        }
      ]
    },
    {
      "cell_type": "markdown",
      "source": [
        "(vi) Write a Python function to find the mean absolute deviation (MAD) of a list of numbers."
      ],
      "metadata": {
        "id": "_7kt_DmrJyio"
      }
    },
    {
      "cell_type": "code",
      "source": [
        "import random\n",
        "import statistics\n",
        "int_list2=[random.randint(200,300) for _ in range(500)]\n",
        "def mean_absolute_deviation(numbers):\n",
        "  if len(numbers)==0:\n",
        "    return None\n",
        "  mean=statistics.mean(numbers)\n",
        "  deviations=[abs(x-mean) for x in numbers]\n",
        "  mod=statistics.mean(deviations)\n",
        "  return mod\n",
        "mod_value=mean_absolute_deviation(int_list2)\n",
        "print(\"Mean absolute Deviation(MAD):\",mod_value)\n"
      ],
      "metadata": {
        "colab": {
          "base_uri": "https://localhost:8080/"
        },
        "id": "96Kk_Kq0J5R1",
        "outputId": "505a7e4b-4ee1-4fc1-b8bf-f2ad82b925ad"
      },
      "execution_count": 17,
      "outputs": [
        {
          "output_type": "stream",
          "name": "stdout",
          "text": [
            "Mean absolute Deviation(MAD): 24.978272\n"
          ]
        }
      ]
    },
    {
      "cell_type": "markdown",
      "source": [
        " (vii) Create a program to calculate the quartile deviation of a list of values."
      ],
      "metadata": {
        "id": "KYmNlKJUNtAJ"
      }
    },
    {
      "cell_type": "code",
      "source": [
        "import random\n",
        "import statistics\n",
        "int_list2 = [random.randint(200, 300) for _ in range(500)]\n",
        "def quartile_deviation(numbers):\n",
        "    if len(numbers) == 0:\n",
        "        return None\n",
        "    sorted_numbers = sorted(numbers)\n",
        "    q1_index = len(sorted_numbers) // 4\n",
        "    q1 = sorted_numbers[q1_index]\n",
        "    q3_index = 3 * len(sorted_numbers) // 4\n",
        "    q3 = sorted_numbers[q3_index]\n",
        "    qd = (q3 - q1) / 2\n",
        "    return qd\n",
        "quartile_dev = quartile_deviation(int_list2)\n",
        "print(\"Quartile Deviation:\", quartile_dev)\n",
        "\n"
      ],
      "metadata": {
        "colab": {
          "base_uri": "https://localhost:8080/"
        },
        "id": "tjkVUslnNylI",
        "outputId": "f674e800-9ffe-4a7b-eeae-33a17d2fcb8b"
      },
      "execution_count": 18,
      "outputs": [
        {
          "output_type": "stream",
          "name": "stdout",
          "text": [
            "Quartile Deviation: 26.5\n"
          ]
        }
      ]
    },
    {
      "cell_type": "markdown",
      "source": [
        "  (viii) Implement a function to find the range-based coefficient of dispersion for a dataset"
      ],
      "metadata": {
        "id": "u_rB3PnuVkqF"
      }
    },
    {
      "cell_type": "code",
      "source": [
        "import random\n",
        "int_list2=[random.randint(200,300) for _ in range(500)]\n",
        "def range_based_coefficient_of_dispersion(numbers):\n",
        "  if len(numbers)==0:\n",
        "    return None\n",
        "  min_value=min(numbers)\n",
        "  max_value=max(numbers)\n",
        "  range_value=max_value-min_value\n",
        "  coefficient_of_dispersion=range_value/(max_value+min_value)\n",
        "  return coefficient_of_dispersion\n",
        "dispersion_coefficient=range_based_coefficient_of_dispersion(int_list2)\n",
        "print(\"Range_Based Coefficient of Dispersion:\",dispersion_coefficient)\n",
        "\n"
      ],
      "metadata": {
        "colab": {
          "base_uri": "https://localhost:8080/"
        },
        "id": "VTSSxcdvYnlw",
        "outputId": "02ae9923-61d2-47ce-bfac-c3404e87ffb3"
      },
      "execution_count": 19,
      "outputs": [
        {
          "output_type": "stream",
          "name": "stdout",
          "text": [
            "Range_Based Coefficient of Dispersion: 0.2\n"
          ]
        }
      ]
    },
    {
      "cell_type": "markdown",
      "source": [],
      "metadata": {
        "id": "eI01azI-b4bH"
      }
    },
    {
      "cell_type": "markdown",
      "source": [
        "3-  Write a Python class representing a discrete random variable with methods to calculate its expected\n",
        "value and variance."
      ],
      "metadata": {
        "id": "LL7j4_NedEpy"
      }
    },
    {
      "cell_type": "code",
      "source": [
        "class DiscreteRandomVariable:\n",
        "  def __init__(self,values,probabilities):\n",
        "    self.values=values\n",
        "    self.probabilities=probabilities\n",
        "  def expected_value(self):\n",
        "    return sum(v*p for v,p in zip(self.values,self.probabilities))\n",
        "  def variance(self):\n",
        "    mean=self.expected_value()\n",
        "    return sum((v-mean)** 2 *p for v,p in zip(self.values,self.probabilities))\n",
        "values=[1,2,3,4,5]\n",
        "probabilities=[0.1,0.2,0.3,0.2,0.2]\n",
        "random_variable = DiscreteRandomVariable(values,probabilities)\n",
        "expected_value=random_variable.expected_value()\n",
        "variance=random_variable.variance()\n",
        "print(\"expected value:\",expected_value)\n",
        "print(\"variance:\",variance)\n",
        "\n",
        "\n",
        "\n"
      ],
      "metadata": {
        "colab": {
          "base_uri": "https://localhost:8080/"
        },
        "id": "YLHOa3ChdKGu",
        "outputId": "13fb4198-c7bc-4680-f121-e5d5cea7a866"
      },
      "execution_count": 20,
      "outputs": [
        {
          "output_type": "stream",
          "name": "stdout",
          "text": [
            "expected value: 3.2\n",
            "variance: 1.56\n"
          ]
        }
      ]
    },
    {
      "cell_type": "markdown",
      "source": [
        "4.Implement a program to simulate the rolling of a fair six-sided die and calculate the expected value and\n",
        "variance of the outcomes."
      ],
      "metadata": {
        "id": "NkwB3Vec94Ke"
      }
    },
    {
      "cell_type": "code",
      "source": [
        "import numpy as np\n",
        "num_roles=int(input(\"Enter the number of dice rolls:\"))\n",
        "outcomes=np.random.randint(1,7,num_roles)\n",
        "expected_value=np.mean(outcomes)\n",
        "variance=np.var(outcomes)\n",
        "print(f\"Expected value :{expected_value:.2f}\")\n",
        "print(f\"variance:{variance:.2f}\")"
      ],
      "metadata": {
        "colab": {
          "base_uri": "https://localhost:8080/"
        },
        "id": "KFtzrLOX-Mda",
        "outputId": "a1db9c0e-62d6-4b9f-87b1-fcc45421a756"
      },
      "execution_count": 22,
      "outputs": [
        {
          "output_type": "stream",
          "name": "stdout",
          "text": [
            "Enter the number of dice rolls:2\n",
            "Expected value :2.50\n",
            "variance:0.25\n"
          ]
        }
      ]
    },
    {
      "cell_type": "markdown",
      "source": [
        "5. Create a Python function to generate random samples from a given probabilities distribution (e.g.,\n",
        "binomial, Poisson) and calculate their mean and variance."
      ],
      "metadata": {
        "id": "Vs9g83OPMysv"
      }
    },
    {
      "cell_type": "code",
      "source": [
        "import random\n",
        "import statistics\n",
        "import numpy as np\n",
        "def generate_samples(distribution,n,**kwargs):\n",
        "    samples=[]\n",
        "    if distribution=='binomial':\n",
        "      p=kwargs.get('p',0.5)\n",
        "      trials=kwargs.get('trials',10)\n",
        "      samples=[random.randint(0,trials) for _ in range(n)]\n",
        "    elif distribution=='poisson':\n",
        "      lam=kwargs.get('lam',5)\n",
        "      samples=[np.random.poisson(lam) for _ in range(n)]\n",
        "    mean=statistics.mean(samples)\n",
        "    variance=statistics.variance(samples)\n",
        "    return mean,variance\n",
        "\n",
        "n_samples=10000\n",
        "mean, variance = generate_samples('binomial',n_samples,p=0.5,trials=10)\n",
        "print(f\"Binomial Distribution - mean: {mean:.2f},variance:{variance:.2f}\")\n",
        "\n",
        "mean,variance=generate_samples('poisson',n_samples,lam=3)\n",
        "print(f\"poisson Distribution_mean:{mean:.2f},variance:{variance:.2f}\")"
      ],
      "metadata": {
        "colab": {
          "base_uri": "https://localhost:8080/"
        },
        "id": "YSq0PuCjNgEE",
        "outputId": "4e708164-4ef9-4f66-fe92-3e9328dc805e"
      },
      "execution_count": 23,
      "outputs": [
        {
          "output_type": "stream",
          "name": "stdout",
          "text": [
            "Binomial Distribution - mean: 5.03,variance:10.02\n",
            "poisson Distribution_mean:3.00,variance:2.99\n"
          ]
        }
      ]
    },
    {
      "cell_type": "markdown",
      "source": [
        "6. Write a Python script to generate random numbers from a Gaussian (normal) distribution and compute\n",
        "the mean, variance, and standard deviation of the samples."
      ],
      "metadata": {
        "id": "YJaAPJgOHyJ-"
      }
    },
    {
      "cell_type": "code",
      "source": [
        "import random\n",
        "import statistics\n",
        "def enerate_gaussain_samples():\n",
        "  n=int(input(\"Enter the number of samples:\"))\n",
        "  mean_input=float(input(\"Enter the mean of the Gaussian Distribution:\"))\n",
        "  std_dev_input=float(input(\"Enter the standard deviation of the Gaussian Distribution:\"))\n",
        "  samples=[random.gauss(mean_input,std_dev_input) for _ in range(n)]\n",
        "  sample_mean=statistics.mean(samples)\n",
        "  sample_variance=statistics.variance(samples)\n",
        "  sample_std_dev=statistics.stdev(samples)\n",
        "  print(f\"Gaussian Distribution - mean:{sample_mean: .2f},variance:{sample_variance: .2f},standard deviation:{sample_std_dev:.2f}\")\n",
        "  return sample_mean,sample_variance,sample_std_dev\n",
        "enerate_gaussain_samples()\n",
        "\n"
      ],
      "metadata": {
        "colab": {
          "base_uri": "https://localhost:8080/"
        },
        "id": "ai6_xLZfH7f4",
        "outputId": "2f3e8785-a2aa-4c6a-c612-05f91c221a58"
      },
      "execution_count": 27,
      "outputs": [
        {
          "output_type": "stream",
          "name": "stdout",
          "text": [
            "Enter the number of samples:2\n",
            "Enter the mean of the Gaussian Distribution:2\n",
            "Enter the standard deviation of the Gaussian Distribution:3\n",
            "Gaussian Distribution - mean: 3.91,variance: 2.19,standard deviation:1.48\n"
          ]
        },
        {
          "output_type": "execute_result",
          "data": {
            "text/plain": [
              "(3.909744296510666, 2.193471822132558, 1.4810374141569005)"
            ]
          },
          "metadata": {},
          "execution_count": 27
        }
      ]
    },
    {
      "cell_type": "markdown",
      "source": [
        "7- Use seaborn library to load tips dataset. Find the following from the dataset for the columns total_bill\n",
        "and tip:"
      ],
      "metadata": {
        "id": "pccZuIsaNaU0"
      }
    },
    {
      "cell_type": "code",
      "source": [
        "import seaborn as sns\n",
        "import statistics\n",
        "tips=sns.load_dataset('tips')\n",
        "total_bill=tips['total_bill']\n",
        "tip=tips['tip']\n",
        "print(tips)\n"
      ],
      "metadata": {
        "colab": {
          "base_uri": "https://localhost:8080/"
        },
        "id": "XOJctBcnN8YH",
        "outputId": "18b4f091-fcb7-44ff-d40a-943bf6082c53"
      },
      "execution_count": 29,
      "outputs": [
        {
          "output_type": "stream",
          "name": "stdout",
          "text": [
            "     total_bill   tip     sex smoker   day    time  size\n",
            "0         16.99  1.01  Female     No   Sun  Dinner     2\n",
            "1         10.34  1.66    Male     No   Sun  Dinner     3\n",
            "2         21.01  3.50    Male     No   Sun  Dinner     3\n",
            "3         23.68  3.31    Male     No   Sun  Dinner     2\n",
            "4         24.59  3.61  Female     No   Sun  Dinner     4\n",
            "..          ...   ...     ...    ...   ...     ...   ...\n",
            "239       29.03  5.92    Male     No   Sat  Dinner     3\n",
            "240       27.18  2.00  Female    Yes   Sat  Dinner     2\n",
            "241       22.67  2.00    Male    Yes   Sat  Dinner     2\n",
            "242       17.82  1.75    Male     No   Sat  Dinner     2\n",
            "243       18.78  3.00  Female     No  Thur  Dinner     2\n",
            "\n",
            "[244 rows x 7 columns]\n"
          ]
        }
      ]
    },
    {
      "cell_type": "markdown",
      "source": [
        "  1- Write a Python function that calculates their skewness."
      ],
      "metadata": {
        "id": "UWn9S30hOMdu"
      }
    },
    {
      "cell_type": "code",
      "source": [
        "import seaborn as sns\n",
        "from scipy.stats import skew\n",
        "def calculate_skewness(data):\n",
        "    return skew(data)\n",
        "tips=sns.load_dataset('tips')\n",
        "total_bill_skewness=calculate_skewness(tips['total_bill'])\n",
        "tip_skewness=calculate_skewness(tips['tip'])\n",
        "print(f\"skewness of Total-Bill:{total_bill_skewness:.2f}\")\n",
        "print(f\"skewness of tip:{tip_skewness:.2f}\")\n"
      ],
      "metadata": {
        "colab": {
          "base_uri": "https://localhost:8080/"
        },
        "id": "o0s0NQd1Fi4F",
        "outputId": "5f8c0c7d-6904-4466-bb46-fae58e5b8d14"
      },
      "execution_count": 30,
      "outputs": [
        {
          "output_type": "stream",
          "name": "stdout",
          "text": [
            "skewness of Total-Bill:1.13\n",
            "skewness of tip:1.46\n"
          ]
        }
      ]
    },
    {
      "cell_type": "markdown",
      "source": [
        "2-  Create a program that determines whether the columns exhibit positive skewness, negative skewness, or is\n",
        "approxmately symmetric."
      ],
      "metadata": {
        "id": "aiCli4PcJQbN"
      }
    },
    {
      "cell_type": "code",
      "source": [
        "import seaborn as sns\n",
        "from scipy.stats import skew\n",
        "def determine_skewness(data):\n",
        "    skewness_value = skew(data)\n",
        "    if skewness_value > 0:\n",
        "        return \"Positive skewness\"\n",
        "    elif skewness_value < 0:\n",
        "        return \"Negative skewness\"\n",
        "    else:\n",
        "        return \"Approximately symmetric\"\n",
        "tips = sns.load_dataset('tips')\n",
        "total_bill_skewness = determine_skewness(tips['total_bill'])\n",
        "tip_skewness = determine_skewness(tips['tip'])\n",
        "print(f\"Total Bill: {total_bill_skewness}\")\n",
        "print(f\"Tip: {tip_skewness}\")\n"
      ],
      "metadata": {
        "colab": {
          "base_uri": "https://localhost:8080/"
        },
        "id": "6064usIxJ56U",
        "outputId": "6e56aad4-e26e-4055-e3f4-1346911a41de"
      },
      "execution_count": 31,
      "outputs": [
        {
          "output_type": "stream",
          "name": "stdout",
          "text": [
            "Total Bill: Positive skewness\n",
            "Tip: Positive skewness\n"
          ]
        }
      ]
    },
    {
      "cell_type": "markdown",
      "source": [
        " 3- Write a function that calculates the covariance between two columns."
      ],
      "metadata": {
        "id": "s19LRXXROTIa"
      }
    },
    {
      "cell_type": "code",
      "source": [
        "import numpy as np\n",
        "import seaborn as sns\n",
        "def calculate_covariance(column1, column2):\n",
        "    covariance_matrix = np.cov(column1, column2)\n",
        "    covariance_value = covariance_matrix[0, 1]\n",
        "    return covariance_value\n",
        "tips = sns.load_dataset('tips')\n",
        "covariance_total_bill_tip = calculate_covariance(tips['total_bill'], tips['tip'])\n",
        "print(f\"Covariance between Total Bill and Tip: {covariance_total_bill_tip:.2f}\")\n"
      ],
      "metadata": {
        "colab": {
          "base_uri": "https://localhost:8080/"
        },
        "id": "LMmrc0mNOT4x",
        "outputId": "e84dd7ea-dbd5-40ed-bcc5-daff522fd571"
      },
      "execution_count": 32,
      "outputs": [
        {
          "output_type": "stream",
          "name": "stdout",
          "text": [
            "Covariance between Total Bill and Tip: 8.32\n"
          ]
        }
      ]
    },
    {
      "cell_type": "markdown",
      "source": [
        " 4- Implement a Python program that calculates the Pearson correlation coefficient between two columns."
      ],
      "metadata": {
        "id": "vrEVwEuefysV"
      }
    },
    {
      "cell_type": "code",
      "source": [
        "import seaborn as sns\n",
        "import statistics as stats\n",
        "tips=sns.load_dataset('tips')\n",
        "total_bill=tips['total_bill']\n",
        "tip=tips['tip']\n",
        "def pearson_correlation(x,y):\n",
        "  mean_x=stats.mean(x)\n",
        "  mean_y=stats.mean(y)\n",
        "  cov=sum((xi-mean_x) * (yi-mean_y) for xi,yi in zip(x,y))\n",
        "  std_x=stats.stdev(x)\n",
        "  std_y=stats.mean(y)\n",
        "  cov=sum((xi-mean_x) *(yi-mean_y) for xi,yi in zip(x,y))\n",
        "  std_x=stats.stdev(x)\n",
        "  std_y=stats.stdev(y)\n",
        "  return cov//((len(x)-1)* std_x *std_y)\n",
        "correlation=pearson_correlation(total_bill,tip)\n",
        "print(\"pearson correlation coefficient:\",correlation)\n",
        "\n"
      ],
      "metadata": {
        "colab": {
          "base_uri": "https://localhost:8080/"
        },
        "id": "uYACrQQPgZ3c",
        "outputId": "52c191a0-314d-4814-abe4-516ab8a19bb9"
      },
      "execution_count": 33,
      "outputs": [
        {
          "output_type": "stream",
          "name": "stdout",
          "text": [
            "pearson correlation coefficient: 0.0\n"
          ]
        }
      ]
    },
    {
      "cell_type": "markdown",
      "source": [
        " 5- Write a script to visualize the correlation between two specific columns on a Pandas DataFrame using\n",
        "scatter plots."
      ],
      "metadata": {
        "id": "rMy959GHozJR"
      }
    },
    {
      "cell_type": "code",
      "source": [
        "import seaborn as sns\n",
        "import pandas as pd\n",
        "import matplotlib.pyplot as plt\n",
        "import statistics\n",
        "tips = sns.load_dataset('tips')\n",
        "total_bill = tips['total_bill']\n",
        "tip = tips['tip']\n",
        "pearson_correlation = statistics.correlation(total_bill, tip)\n",
        "print(f\"Pearson Correlation Coefficient: {pearson_correlation:.4f}\")\n",
        "plt.figure(figsize=(8, 6))\n",
        "sns.scatterplot(x=total_bill, y=tip)\n",
        "plt.title(f'Scatter Plot of Total Bill vs Tip\\nPearson Correlation: {pearson_correlation:.4f}')\n",
        "plt.xlabel('Total Bill')\n",
        "plt.ylabel('Tip')\n",
        "plt.grid(True)\n",
        "plt.show()\n"
      ],
      "metadata": {
        "colab": {
          "base_uri": "https://localhost:8080/",
          "height": 602
        },
        "id": "EtDm5W7wo1Fk",
        "outputId": "8815512f-7557-4e6a-c320-8af9200740f7"
      },
      "execution_count": 34,
      "outputs": [
        {
          "output_type": "stream",
          "name": "stdout",
          "text": [
            "Pearson Correlation Coefficient: 0.6757\n"
          ]
        },
        {
          "output_type": "display_data",
          "data": {
            "text/plain": [
              "<Figure size 800x600 with 1 Axes>"
            ],
            "image/png": "[encoded data removed]"
          },
          "metadata": {}
        }
      ]
    },
    {
      "cell_type": "markdown",
      "source": [
        "8-Write a Python function to calculate the probability density 6unction (PDF) of a continuous random\n",
        "variable for a given normal distribution.\n",
        "\n"
      ],
      "metadata": {
        "id": "Ky6XSpmbz3H9"
      }
    },
    {
      "cell_type": "code",
      "source": [
        "import statistics\n",
        "import math\n",
        "def normal_pdf(x,mean,std_dev):\n",
        "  exponent=-0.5 *((x-mean)/std_dev)**2\n",
        "  pdf_value=(1/(std_dev*math.sqrt(2*math.pi)))*math.exp(exponent)\n",
        "  return pdf_value\n",
        "mean=float(input(\"Entet the mean of the distribution:\"))\n",
        "std_dev=float(input(\"Enter the standard deviataion of the dustribution:\"))\n",
        "x=float(input(\"Enter the value(x) at which to calculate the pdf:\"))\n",
        "pdf_result=normal_pdf(x,mean,std_dev)\n",
        "print(f\"\\n PDF value at x={x} for N({mean},{std_dev}^2):{pdf_result:.4f}\")"
      ],
      "metadata": {
        "colab": {
          "base_uri": "https://localhost:8080/"
        },
        "id": "enzf2YVW1DCQ",
        "outputId": "98da7071-ae09-418c-c87a-a500879ad7e8"
      },
      "execution_count": 35,
      "outputs": [
        {
          "output_type": "stream",
          "name": "stdout",
          "text": [
            "Entet the mean of the distribution:2\n",
            "Enter the standard deviataion of the dustribution:2\n",
            "Enter the value(x) at which to calculate the pdf:2\n",
            "\n",
            " PDF value at x=2.0 for N(2.0,2.0^2):0.1995\n"
          ]
        }
      ]
    },
    {
      "cell_type": "markdown",
      "source": [
        "9- Create a program to calculate the cumulative distribution function (CDF) of exponential distribution."
      ],
      "metadata": {
        "id": "96UbwN8CTyz4"
      }
    },
    {
      "cell_type": "code",
      "source": [
        "import math\n",
        "def exponential_cdf(x, rate):\n",
        "    if x < 0:\n",
        "        return 0.0\n",
        "    else:\n",
        "        cdf_value = 1 - math.exp(-rate * x)\n",
        "        return cdf_value\n",
        "rate = float(input(\"Enter the rate parameter (λ) of the distribution: \"))\n",
        "x = float(input(\"Enter the value (x) at which to calculate the CDF: \"))\n",
        "cdf_result = exponential_cdf(x, rate)\n",
        "print(f\"\\nCDF value at x = {x} for Exponential({rate}): {cdf_result:.4f}\")\n"
      ],
      "metadata": {
        "colab": {
          "base_uri": "https://localhost:8080/"
        },
        "id": "6uVa5vpBT-Me",
        "outputId": "0a163f79-8704-441a-c322-0e675d48d77d"
      },
      "execution_count": null,
      "outputs": [
        {
          "output_type": "stream",
          "name": "stdout",
          "text": [
            "Enter the rate parameter (λ) of the distribution: 3\n",
            "Enter the value (x) at which to calculate the CDF: 2\n",
            "\n",
            "CDF value at x = 2.0 for Exponential(3.0): 0.9975\n"
          ]
        }
      ]
    },
    {
      "cell_type": "markdown",
      "source": [
        "10) Write a Python function to calculate the probability mass function (PMF) of Poisson distribution.\n"
      ],
      "metadata": {
        "id": "lJwuww2PkOit"
      }
    },
    {
      "cell_type": "code",
      "source": [
        "import math\n",
        "def exponential_cdf(x,rate):\n",
        "  if x<0:\n",
        "    return 0.0\n",
        "  else:\n",
        "    cdf_value=1-math.exp(-rate*x)\n",
        "    return cdf_value\n",
        "rate=float(input(\"Enter the rate parameter of the distribution:\"))\n",
        "x=float(input(\"Enter the value(x) at which to calculate the CDF:\"))\n",
        "cdf_result=exponential_cdf(x,rate)\n",
        "print(f\"\\n CDF value at x={x} for exponential ({rate}):{cdf_result:.4f}\")\n",
        "\n"
      ],
      "metadata": {
        "colab": {
          "base_uri": "https://localhost:8080/"
        },
        "id": "Ou2u4gKkkYYK",
        "outputId": "68ef9fee-bf21-46bc-857b-ea7d184d9969"
      },
      "execution_count": 36,
      "outputs": [
        {
          "output_type": "stream",
          "name": "stdout",
          "text": [
            "Enter the rate parameter of the distribution:2\n",
            "Enter the value(x) at which to calculate the CDF:2\n",
            "\n",
            " CDF value at x=2.0 for exponential (2.0):0.9817\n"
          ]
        }
      ]
    },
    {
      "cell_type": "markdown",
      "source": [
        "11. A company wants to test in a new website layout leads to a higher conversion rate (percentage of visitors\n",
        "who make a purchase). They collect data Nrom the old and new layouts to compare.\n",
        "To generate the data use the following command:\n",
        "```python\n",
        "import numpy as np\n",
        "# 50 purchases out of 1000 visitors\n",
        "old_layout = <p.array([1] * 50 + [0] * 950)\n",
        "# 70 purchases out of 1000 visitors  \n",
        "<new_layout = <p.array([1] * 70 + [0] * 930)\n",
        " ```\n",
        "Apply z-test to find which layout is successful."
      ],
      "metadata": {
        "id": "rxqEUSFoqgye"
      }
    },
    {
      "cell_type": "code",
      "source": [
        "import numpy as np\n",
        "from statsmodels.stats.weightstats import ztest\n",
        "old_layout=np.array([1]*50 +[0]*950)\n",
        "new_layout=np.array([1]*70 +[0]*930)\n",
        "z_stat,p_value=ztest(new_layout,old_layout,alternative='larger')\n",
        "print(f\"z-statistic:{z_stat:.4f}\")\n",
        "print(f\"p-value:{p_value:.4f}\")\n",
        "alpha=0.05\n",
        "if p_value<alpha:\n",
        "  print(\"Reject the null hypothesis:The new layout has a significantly higher conversion rate.\")\n",
        "else:\n",
        "  print(\"Fail to reject the null hypothesis:There is no significant differnece in conversion rates\")\n"
      ],
      "metadata": {
        "colab": {
          "base_uri": "https://localhost:8080/"
        },
        "id": "OV1hDlVhxJeq",
        "outputId": "fbb74238-805b-4cfa-e31a-34d867b7980b"
      },
      "execution_count": 37,
      "outputs": [
        {
          "output_type": "stream",
          "name": "stdout",
          "text": [
            "z-statistic:1.8838\n",
            "p-value:0.0298\n",
            "Reject the null hypothesis:The new layout has a significantly higher conversion rate.\n"
          ]
        }
      ]
    },
    {
      "cell_type": "markdown",
      "source": [
        "12-A tutoring service claims that its program improves students' exam scores. A sample oN students who\n",
        "participated in the program was taken, and their scores beNore and aNter the program were recorded.\n",
        "Use the below code to generate samples of respective arrays of marks:\n",
        "```python\n",
        "before_program = <p.array([75, 80, 85, 70, 90, 78, 92, 88, 82, 87])\n",
        "after_program = <p.array([80, 85, 90, 80, 92, 80, 95, 90, 85, 88])\n",
        "```\n",
        "Use z-test to find if the claims made by tutor are true or false."
      ],
      "metadata": {
        "id": "LbCRrNj7XDW7"
      }
    },
    {
      "cell_type": "code",
      "source": [
        "import numpy as np\n",
        "from statsmodels.stats.weightstats import ztest\n",
        "before_program=np.array([75,80,85,70,90,78,92,88,82,87])\n",
        "after_program=np.array([80,85,90,80,92,80,95,90,85,88])\n",
        "score_diff=after_program-before_program\n",
        "z_stat,p_value=ztest(score_diff,value=0,alternative='larger')\n",
        "print(f\"z-statistic:{z_stat:.4f}\")\n",
        "print(f\"p-value:{p_value:.4f}\")\n",
        "alpha=0.05\n",
        "if p_value<alpha:\n",
        "  print(\"Reject the null hypthesis:The tutoring program significantly improves students exam scores\")\n",
        "else:\n",
        "  print(\"Fail to reject the null hypothesis:The tutoring program significantly improves student scores\")\n"
      ],
      "metadata": {
        "colab": {
          "base_uri": "https://localhost:8080/"
        },
        "id": "DqJrvzwcb4mM",
        "outputId": "db0bad0c-395c-4216-9b1e-8f2622a48aff"
      },
      "execution_count": 38,
      "outputs": [
        {
          "output_type": "stream",
          "name": "stdout",
          "text": [
            "z-statistic:4.5932\n",
            "p-value:0.0000\n",
            "Reject the null hypthesis:The tutoring program significantly improves students exam scores\n"
          ]
        }
      ]
    },
    {
      "cell_type": "markdown",
      "source": [
        "13- A pharmaceutical company wants to determine iN a new drug is eNNective in reducing blood pressure. They\n",
        "conduct a study and record blood pressure measurements beNore and after administering the drug.\n",
        "Use the below code to generate samples of respective arrays of blood pressure:\n",
        "```python\n",
        "before_drug = <p.array([145, 150, 140, 135, 155, 160, 152, 148, 130, 138])\n",
        "after_drug = <p.array([130, 140, 132, 128, 145, 148, 138, 136, 125, 130])\n",
        "\n",
        "  ```\n",
        "  Implement z-test to find if the drug really works or not."
      ],
      "metadata": {
        "id": "SoBZrwMRxj3e"
      }
    },
    {
      "cell_type": "code",
      "source": [
        "import numpy as np\n",
        "from statsmodels.stats.weightstats import ztest\n",
        "before_drug = np.array([145, 150, 140, 135, 155, 160, 152, 148, 130, 138])\n",
        "after_drug = np.array([130, 140, 132, 128, 145, 148, 138, 136, 125, 130])\n",
        "bp_diff = before_drug - after_drug\n",
        "z_stat, p_value = ztest(bp_diff, value=0, alternative='larger')\n",
        "print(f\"Z-Statistic: {z_stat:.4f}\")\n",
        "print(f\"P-Value: {p_value:.4f}\")\n",
        "alpha = 0.05\n",
        "if p_value < alpha:\n",
        "    print(\"Reject the null hypothesis: The drug significantly reduces blood pressure.\")\n",
        "else:\n",
        "    print(\"Fail to reject the null hypothesis: The drug does not significantly reduce blood pressure.\")\n"
      ],
      "metadata": {
        "colab": {
          "base_uri": "https://localhost:8080/"
        },
        "id": "G57iqUZDnBhE",
        "outputId": "4b99ea50-23a6-4762-ea69-84ad6ea2f219"
      },
      "execution_count": 39,
      "outputs": [
        {
          "output_type": "stream",
          "name": "stdout",
          "text": [
            "Z-Statistic: 10.0499\n",
            "P-Value: 0.0000\n",
            "Reject the null hypothesis: The drug significantly reduces blood pressure.\n"
          ]
        }
      ]
    },
    {
      "cell_type": "markdown",
      "source": [
        "14. A customer service depart:ent claims that their average response time is less than 5 minutes. A sample\n",
        "of recent custo:er interactions was taken, and the response times were recorded.\n",
        "Implement the below code to ge3erate the array of response time:\n",
        "```python\n",
        "response_times = 3p.array([4.3, 3.8, 5.1, 4.9, 4.7, 4.2, 5.2, 4.5, 4.6, 4.4])\n",
        "```\n",
        "Implement z-test to find the claims made by customer service department are true or false."
      ],
      "metadata": {
        "id": "V_4s3tbHh_sB"
      }
    },
    {
      "cell_type": "code",
      "source": [
        "import numpy as np\n",
        "from statsmodels.stats.weightstats import ztest\n",
        "response_times=np.array([4.3,3.8,5.1,4.9,4.7,4.2,5.2,4.5,4.6,4.4])\n",
        "z_stat,p_value=ztest(response_times,value=5,alternative='smaller')\n",
        "print(f\"z-statistic:{z_stat:.4f}\")\n",
        "print(f\"p-value:{p_value:.4f}\")\n",
        "alpha=0.05\n",
        "if p_value<alpha:\n",
        "    print(\"Reject the null hypothesis:The customer service departments average response time in less than 5 minutes.\")\n",
        "else:\n",
        "    print(\"Fail to reject the null hypothesis:There is no significant evidence that the average response time in less than 5 minutes.\")\n"
      ],
      "metadata": {
        "colab": {
          "base_uri": "https://localhost:8080/"
        },
        "id": "8ZafnG2UiZYl",
        "outputId": "84a4a35a-30c4-4b47-f92d-7246e0f9e33b"
      },
      "execution_count": 40,
      "outputs": [
        {
          "output_type": "stream",
          "name": "stdout",
          "text": [
            "z-statistic:-3.1845\n",
            "p-value:0.0007\n",
            "Reject the null hypothesis:The customer service departments average response time in less than 5 minutes.\n"
          ]
        }
      ]
    },
    {
      "cell_type": "markdown",
      "source": [
        "15. A company is testing two different website layouts to see which one leads to higher click-through rates.\n",
        "Write a Python function to perform an A/B test analysis, including calculating the t-statistic, degrees of\n",
        "freedom:, and p-value.\n",
        "Use the following data:\n",
        "```python\n",
        "layout_a_clicks = [28, 32, 33, 29, 31, 34, 30, 35, 36, 37]\n",
        "layout_b_clicks = [40, 41, 38, 42, 39, 44, 43, 41, 45, 47]"
      ],
      "metadata": {
        "id": "DrMOest-kHdq"
      }
    },
    {
      "cell_type": "code",
      "source": [
        "import numpy as np\n",
        "from scipy import stats\n",
        "def ab_test_analysis(layout_a,layout_b):\n",
        "    mean_a=np.mean(layout_a)\n",
        "    mean_b=np.mean(layout_b)\n",
        "    var_a=np.var(layout_a,ddof=1)\n",
        "    var_b=np.var(layout_b,ddof=1)\n",
        "    n_a=len(layout_a)\n",
        "    n_b=len(layout_b)\n",
        "    t_stat=(mean_a-mean_b)/np.sqrt((var_a/n_a)+(var_b/n_b))\n",
        "    dof = ((var_a/n_a)+(var_b/n_b))**2 /(((var_a/n_a)**2/(n_a-1))+((var_b/n_b)**2/(n_b-1)))\n",
        "    p_value = stats.t.sf(np.abs(t_stat),df=dof)*2 #two tailed test\n",
        "    return t_stat,dof,p_value\n",
        "layout_a_clicks=[28,32,33,29,31,34,30,35,36,37]\n",
        "layout_b_clicks=[40,41,38,42,39,44,43,41,45,47]\n",
        "t_stat,dof,p_value=ab_test_analysis(layout_a_clicks,layout_b_clicks)\n",
        "print(f\"T-Statistic:{t_stat:.4f}\")\n",
        "print(f\"Degrees of Freedom:{dof:.4f}\")\n",
        "print(f\"p-Value:{p_value:.4f}\")\n",
        "alpha=0.05\n",
        "if p_value<alpha:\n",
        "  print(\"Reject the null hypthesis:There is a significant difference between the two layouts.\")\n",
        "else:\n",
        "  print(\"Fail to reject the null hypothesis:There is no significant difference between the two layouts.\")\n",
        "\n"
      ],
      "metadata": {
        "colab": {
          "base_uri": "https://localhost:8080/"
        },
        "id": "EKFPE_pXkYhL",
        "outputId": "b738bf8b-de69-40a9-ba9d-4d584c39f77e"
      },
      "execution_count": 41,
      "outputs": [
        {
          "output_type": "stream",
          "name": "stdout",
          "text": [
            "T-Statistic:-7.2981\n",
            "Degrees of Freedom:17.8799\n",
            "p-Value:0.0000\n",
            "Reject the null hypthesis:There is a significant difference between the two layouts.\n"
          ]
        }
      ]
    },
    {
      "cell_type": "markdown",
      "source": [
        "16- A phar:aceutical co:pany wants to deter:ine if a new drug is :ore effective than an existing drug in\n",
        "reducing cholesterol levelsV Create a progra: to analyze the clinical trial data and calculate the tstatistic and p-value for the treat:ent effect.\n",
        "Use the followi3g data of cholestrol level:\n",
        "```python\n",
        "existing_drug_levels = [180, 182, 175, 185, 178, 176, 172, 184, 179, 183]\n",
        "few_drug_levels = [170, 172, 165, 168, 175, 173, 170, 178, 172, 176]"
      ],
      "metadata": {
        "id": "qb6EGMhx2TQn"
      }
    },
    {
      "cell_type": "code",
      "source": [
        "import numpy as np\n",
        "from scipy import stats\n",
        "def analyze_drug_effect(existing_levels,new_levels):\n",
        "    mean_existing=np.mean(existing_levels)\n",
        "    mean_new=np.mean(new_levels)\n",
        "    var_existing=np.var(existing_levels,ddof=1)\n",
        "    var_new=np.var(new_levels,ddof=1)\n",
        "    n_existing=len(existing_levels)\n",
        "    n_new=len(new_levels)\n",
        "    t_stat=(mean_existing-mean_new)/np.sqrt((var_existing/n_existing)+(var_new/n_new))\n",
        "    dof=((var_existing/n_existing)+(var_new/n_new))**2/(((var_existing/n_existing)**2)/(n_existing-1)+((var_new/n_new)**2/(n_new-1)))\n",
        "    p_value=stats.t.sf(np.abs(t_stat),df=dof)*2 #two tailed test\n",
        "    return t_stat,dof,p_value\n",
        "existing_drug_levels=[180,182,175,185,178,176,172,184,179,183]\n",
        "new_drug_levels=[170,172,165,168,175,173,170,178,172,176]\n",
        "t_stat,dof,p_value=analyze_drug_effect(existing_drug_levels,new_drug_levels)\n",
        "print(f\"T-Statistic:{t_stat:.4f}\")\n",
        "print(f\"Degrees of Freedom:{dof:.4f}\")\n",
        "print(f\"P-Value:{p_value:.4f}\")\n",
        "alpha=0.05\n",
        "if p_value<alpha:\n",
        "    print(\"Reject the null hypothesis:The new drug is more effective than the existing drug in reducing cholestrol levels.\")\n",
        "else:\n",
        "   print(\"Fail to reject the null hypthesis:There is no significant difference in effectiveness between the new and existing drugs.\")\n",
        "\n"
      ],
      "metadata": {
        "colab": {
          "base_uri": "https://localhost:8080/"
        },
        "id": "mL7YUODD2dX3",
        "outputId": "c5a31b5b-0aec-45f4-bf73-4bf635e5da70"
      },
      "execution_count": 42,
      "outputs": [
        {
          "output_type": "stream",
          "name": "stdout",
          "text": [
            "T-Statistic:4.1405\n",
            "Degrees of Freedom:17.8668\n",
            "P-Value:0.0006\n",
            "Reject the null hypothesis:The new drug is more effective than the existing drug in reducing cholestrol levels.\n"
          ]
        }
      ]
    },
    {
      "cell_type": "markdown",
      "source": [
        "17-A school district introduces an educational intervention progra: to i:prove :ath scoresV Write a Python\n",
        "function to analyze pre- and post-intervention test scores, calculating the t-statistic and p-value to\n",
        "deter:ine if the intervention had a significant i:pact.\n",
        "Use the followi3g data of test score:\n",
        "```python\n",
        "  pre_i3terve3tio3_scores = [80, 85, 90, 75, 88, 82, 92, 78, 85, 87] post_i3terve3tio3_scores = [90, 92, 88, 92, 95, 91, 96, 93, 89, 93]"
      ],
      "metadata": {
        "id": "6vW7zRlNCtIv"
      }
    },
    {
      "cell_type": "code",
      "source": [
        "import scipy.stats as stats\n",
        "def analyze_intervention(pre_scores,post_scores):\n",
        "  t_statistic,p_value=stats.ttest_rel(pre_scores,post_scores)\n",
        "  return t_statistic,p_value\n",
        "pre_intervention_scores=[80,85,90,75,88,82,92,78,85,87]\n",
        "post_intervention_scores=[90,92,88,92,95,91,96,93,89,93]\n",
        "t_stat,p_val=analyze_intervention(pre_intervention_scores,post_intervention_scores)\n",
        "print(f\"T-Statistic:{t_stat:.2f}\")\n",
        "print(f\"P-Value:{p_val:.4f}\")\n",
        "if p_val<0.05:\n",
        "  print(\"The intervention had a statistically significant impact.\")\n",
        "else:\n",
        "  print(\"The intervention did not have a statistically significant impact.\")\n"
      ],
      "metadata": {
        "id": "9r6WTV3IC0tx",
        "colab": {
          "base_uri": "https://localhost:8080/"
        },
        "outputId": "d84dec6a-03af-4fee-a4f7-98087b370c30"
      },
      "execution_count": 43,
      "outputs": [
        {
          "output_type": "stream",
          "name": "stdout",
          "text": [
            "T-Statistic:-4.43\n",
            "P-Value:0.0017\n",
            "The intervention had a statistically significant impact.\n"
          ]
        }
      ]
    },
    {
      "cell_type": "markdown",
      "source": [
        "18. An HR department wants to investigate if there's a gender-based salary gap within the company. Develop\n",
        "a program to analyze salary data, calculate the t-statistic, and determine if there's a statistically\n",
        "signi@icant difference between the average salaries o@ male and @emale employees.\n",
        "Use the below code to generate synthetic dataY\n",
        "```python\n",
        "# Generate synthetic salary data for male and female employees\n",
        "np.random.seed(0)  # For reproducibility\n",
        "male_salaries = np.random.normal(loc=50000, scale=10000, size=20)\n",
        "female_salaries = np.random.normal(loc=55000, scale=9000, size=20)"
      ],
      "metadata": {
        "id": "s_hsH9RaWw6J"
      }
    },
    {
      "cell_type": "code",
      "source": [
        "import numpy as np\n",
        "import scipy.stats as stats\n",
        "np.random.seed(0)\n",
        "male_salaries=np.random.normal(loc=50000,scale=10000,size=20)\n",
        "female_salaries=np.random.normal(loc=55000,scale=9000,size=20)\n",
        "def analyze_salary_gap(male_salaries,female_salaries):\n",
        "  t_statistic,p_value=stats.ttest_ind(male_salaries,female_salaries)\n",
        "  return t_statistic,p_value\n",
        "t_stat,p_val=analyze_salary_gap(male_salaries,female_salaries)\n",
        "print(f\"T-statistic:{t_stat:.2f}\")\n",
        "print(f\"P-Value:{p_val:.4f}\")\n",
        "if p_val<0.05:\n",
        "  print(\"There is a statistically significant difference between the average salaries of male and female employee\")\n",
        "else:\n",
        "  print(\"There is no statistically significant difference between the average salaries of male and female employees.\")"
      ],
      "metadata": {
        "colab": {
          "base_uri": "https://localhost:8080/"
        },
        "id": "ErQDT8R1Z9fp",
        "outputId": "3d78335c-d110-4842-d2fb-60ef2f634f4b"
      },
      "execution_count": 16,
      "outputs": [
        {
          "output_type": "stream",
          "name": "stdout",
          "text": [
            "T-statistic:0.06\n",
            "P-Value:0.9516\n",
            "There is no statistically significant difference between the average salaries of male and female employees.\n"
          ]
        }
      ]
    },
    {
      "cell_type": "markdown",
      "source": [
        "19.A manufacturer produces two different versions of a product and wants to compare their quality scores.\n",
        "Create a Python function to analyze quality assessment data, calculate the t-statistic, and decide\n",
        "whether there's a signi@icant difference in quality between the two versions.\n",
        "Use the following dataY\n",
        "```python\n",
        "version1_scores = [85, 88, 82, 89, 87, 84, 90, 88, 85, 86, 91, 83, 87, 84, 89, 86, 84, 88, 85, 86, 89, 90, 87, 88, 85]\n",
        "version2_scores = [80, 78, 83, 81, 79, 82, 76, 80, 78, 81, 77, 82, 80, 79, 82, 79, 80, 81, 79, 82, 79, 78, 80, 81, 82]\n",
        "\n",
        "```"
      ],
      "metadata": {
        "id": "PJj3jEMOcv8V"
      }
    },
    {
      "cell_type": "code",
      "source": [
        "from scipy import stats\n",
        "def compare_quality(version1_scores,version2_scores):\n",
        "    t_statistic,p_value=stats.ttest_ind(version1_scores,version2_scores)\n",
        "    print(f\"T-Statistic: {t_statistic:.2f}\")\n",
        "    print(f\"P-Value: {p_value:.4f}\")\n",
        "    alpha=0.05\n",
        "    if p_value<alpha:\n",
        "      print(\"There is a significant difference in quality between the two versions.\")\n",
        "    else:\n",
        "      print(\"There is no significant difference in quality between the two versions.\")\n",
        "version1_scores = [85, 88, 82, 89, 87, 84, 90, 88, 85, 86, 91, 83, 87, 84, 89, 86, 84, 88, 85, 86, 89, 90, 87, 88, 85]\n",
        "version2_scores = [80, 78, 83, 81, 79, 82, 76, 80, 78, 81, 77, 82, 80, 79, 82, 79, 80, 81, 79, 82, 79, 78, 80, 81, 82]\n",
        "compare_quality(version1_scores,version2_scores)\n",
        "\n",
        "\n",
        "\n",
        "\n"
      ],
      "metadata": {
        "colab": {
          "base_uri": "https://localhost:8080/"
        },
        "id": "oUjx5p8McyW6",
        "outputId": "cc64bbe4-e907-48c0-99b5-364911e724f9"
      },
      "execution_count": 20,
      "outputs": [
        {
          "output_type": "stream",
          "name": "stdout",
          "text": [
            "T-Statistic: 11.33\n",
            "P-Value: 0.0000\n",
            "There is a significant difference in quality between the two versions.\n"
          ]
        }
      ]
    },
    {
      "cell_type": "markdown",
      "source": [
        "20. A restaurant chain collects customer satisfaction scores for two different branches. Write a program to\n",
        "analyze the scores, calculate the t-statistic, and determine if there's a statistically signi@icant di@@erence in\n",
        "customer satisfaction between the branches.\n",
        "\n",
        "\n",
        "Use the below data of scores:\n",
        "\n",
        "  ```python\n",
        "\n",
        "branch_a_scores = [4, 5, 3, 4, 5, 4, 5, 3, 4, 4, 5, 4, 4, 3, 4, 5, 5, 4, 3, 4, 5, 4, 3, 5, 4, 4, 5, 3, 4, 5, 4]\n",
        "\n",
        "branch_b_scores = [3, 4, 2, 3, 4, 3, 4, 2, 3, 3, 4, 3, 3, 2, 3, 4, 4, 3, 2, 3, 4, 3, 2, 4, 3, 3, 4, 2, 3, 4, 3"
      ],
      "metadata": {
        "id": "-vou9bA3f37M"
      }
    },
    {
      "cell_type": "code",
      "source": [
        "from scipy import stats\n",
        "def analyze_satisfaction(branch_a_scores,branch_b_scores):\n",
        "    t_statistic,p_value=stats.ttest_ind(branch_a_scores,branch_b_scores)\n",
        "    print(f\"T-Statistic:{t_statistic:.2f}\")\n",
        "    print(f\"P-Value:{p_value:.4f}\")\n",
        "    alpha=0.05\n",
        "    if p_value <alpha:\n",
        "      print(\"There is a significant difference in customer satisfaction between the two branches\")\n",
        "    else:\n",
        "      print(\"There is no significant difference in customer satisfaction between the two branches.\")\n",
        "branch_a_scores = [4, 5, 3, 4, 5, 4, 5, 3, 4, 4, 5, 4, 4, 3, 4, 5, 5, 4, 3, 4, 5, 4, 3, 5, 4, 4, 5, 3, 4, 5, 4]\n",
        "branch_b_scores = [3, 4, 2, 3, 4, 3, 4, 2, 3, 3, 4, 3, 3, 2, 3, 4, 4, 3, 2, 3, 4, 3, 2, 4, 3, 3, 4, 2, 3, 4, 3]\n",
        "analyze_satisfaction(branch_a_scores,branch_b_scores)\n",
        "\n"
      ],
      "metadata": {
        "colab": {
          "base_uri": "https://localhost:8080/"
        },
        "id": "EJSMTVcClLd2",
        "outputId": "21effe7e-d93f-4dd5-9587-875f8fdce01a"
      },
      "execution_count": 23,
      "outputs": [
        {
          "output_type": "stream",
          "name": "stdout",
          "text": [
            "T-Statistic:5.48\n",
            "P-Value:0.0000\n",
            "There is a significant difference in customer satisfaction between the two branches\n"
          ]
        }
      ]
    },
    {
      "cell_type": "markdown",
      "source": [
        "21 A political analyst wants to determine i@ there is a signi@icant association between age groups and voter\n",
        "pre@erences FCandidate A or Candidate B). They collect data @rom a sample of 500 voters and classi@y\n",
        "them into di@@erent age groups and candidate pre@erences. Per@orm a Chi-Square test to determine if\n",
        "there is a signi@icant association between age groups and voter preferences.\n",
        "\n",
        "\n",
        "Use the below code to generate data:\n",
        "\n",
        "```python\n",
        "\n",
        "np.random.seed(0)\n",
        "\n",
        "age_groups = np.random.choice([ 18 30 , 31 50 , 51+', 51+'], size=30)\n",
        "\n",
        "voter_preferences = np.random.choice(['Candidate A', 'Candidate B'], size=30)"
      ],
      "metadata": {
        "id": "emLHtlywmiqo"
      }
    },
    {
      "cell_type": "code",
      "source": [
        "import numpy as np\n",
        "import pandas as pd\n",
        "from scipy.stats import chi2_contingency\n",
        "np.random.seed(0)\n",
        "age_groups=np.random.choice(['18-30','31-50','51+'],size=500)\n",
        "voter_preferences=np.random.choice(['Candidate A','Candidate B'],size=500)\n",
        "data=pd.DataFrame({'Age Group':age_groups,'Voter Preference': voter_preferences})\n",
        "contingency_table=pd.crosstab(data['Age Group'],data['Voter Preference'])\n",
        "print(\"Contingency Table:\")\n",
        "print(contingency_table)\n",
        "chi2_stat,p_value,dof,expected=chi2_contingency(contingency_table)\n",
        "print(f\"\\nChi-Square Statistic:{chi2_stat:.2f}\")\n",
        "print(f\"P-Value:{p_value:.4f}\")\n",
        "print(f\"Degrees of Freedom:{dof}\")\n",
        "print(\"\\nExpected Frequencies:\")\n",
        "print(expected)\n",
        "alpha=0.05\n",
        "if p_value<alpha:\n",
        "  print(\"\\n There is a significant association between age groups and voter preferences.\")\n",
        "else:\n",
        "  print(\"\\n There is no significant association between age groups and voter preferences.\")\n",
        "\n"
      ],
      "metadata": {
        "colab": {
          "base_uri": "https://localhost:8080/"
        },
        "id": "qGALxAuUmoOC",
        "outputId": "01345f93-564d-451d-a760-8a457ffc3559"
      },
      "execution_count": 27,
      "outputs": [
        {
          "output_type": "stream",
          "name": "stdout",
          "text": [
            "Contingency Table:\n",
            "Voter Preference  Candidate A  Candidate B\n",
            "Age Group                                 \n",
            "18-30                      95           87\n",
            "31-50                      87           82\n",
            "51+                        84           65\n",
            "\n",
            "Chi-Square Statistic:0.88\n",
            "P-Value:0.6447\n",
            "Degrees of Freedom:2\n",
            "\n",
            "Expected Frequencies:\n",
            "[[96.824 85.176]\n",
            " [89.908 79.092]\n",
            " [79.268 69.732]]\n",
            "\n",
            " There is no significant association between age groups and voter preferences.\n"
          ]
        }
      ]
    },
    {
      "cell_type": "markdown",
      "source": [
        "22. A company conducted a customer satisfaction survey to determine if there is a significant relationship\n",
        "between product satisfaction levels (Satisfied, Neutral, Dissatisfied) and the region where customers are\n",
        "located (East, West, North, South). The survey data is summarized in a contingency table. Conduct a ChiSquare test to determine if there is a significant relationship between product satisfaction levels and\n",
        "customer regions.\n",
        "\n",
        "\n",
        "Sample data:\n",
        "\n",
        "```python\n",
        "\n",
        "#Sample data: Product satisfaction levels (rows) vs. Customer regions (columns)\n",
        "\n",
        "data = np.array([[50, 30, 40, 20], [30, 40, 30, 50], [20, 30, 40, 30]])"
      ],
      "metadata": {
        "id": "Sqh59KsC65JQ"
      }
    },
    {
      "cell_type": "code",
      "source": [
        "import numpy as np\n",
        "from scipy.stats import chi2_contingency\n",
        "data=np.array([[50, 30, 40, 20], [30, 40, 30, 50], [20, 30, 40, 30]])\n",
        "chi2_stat,p_value,dof, expected= chi2_contingency(data)\n",
        "print(f\"Chi-Square Statistic:{chi2_stat:.2f}\")\n",
        "print(f\"P-Value:{p_value:.4f}\")\n",
        "print(f\"Degrees of Freedom:{dof}\")\n",
        "print(\"Expected Frequencies:\")\n",
        "print(expected)\n",
        "alpha=0.05\n",
        "if p_value<alpha:\n",
        "  print(\"\\n There is a significant relationship between product satisfaction levels and customer regions.\")\n",
        "else:\n",
        "  print(\"\\n There is no significant relationshio between product satisfaction levels and customer regions.\")\n",
        "\n"
      ],
      "metadata": {
        "colab": {
          "base_uri": "https://localhost:8080/"
        },
        "id": "ng4rzQoJ6_B8",
        "outputId": "ac375198-954d-4ecc-9781-a37c04834970"
      },
      "execution_count": 30,
      "outputs": [
        {
          "output_type": "stream",
          "name": "stdout",
          "text": [
            "Chi-Square Statistic:27.78\n",
            "P-Value:0.0001\n",
            "Degrees of Freedom:6\n",
            "Expected Frequencies:\n",
            "[[34.14634146 34.14634146 37.56097561 34.14634146]\n",
            " [36.58536585 36.58536585 40.24390244 36.58536585]\n",
            " [29.26829268 29.26829268 32.19512195 29.26829268]]\n",
            "\n",
            " There is a significant relationship between product satisfaction levels and customer regions.\n"
          ]
        }
      ]
    },
    {
      "cell_type": "markdown",
      "source": [
        "23. A company implemented an employee training program to improve job performance (Effective, Neutral,\n",
        "Ineffective). After the training, they collected data from a sample of employees and classified them based\n",
        "on their job performance before and after the training. Perform a Chi-Square test to determine if there is a\n",
        "significant difference between job performance levels before and after the training.\n",
        "\n",
        "\n",
        "Sample data:\n",
        "\n",
        "```python\n",
        "\n",
        "# Sample data: Job performance levels before (rows) and after (columns) training\n",
        "\n",
        "data = np.array([[50, 30, 20], [30, 40, 30], [20, 30, 40]])\n",
        "\n",
        "```"
      ],
      "metadata": {
        "id": "anvcNbd9A3bf"
      }
    },
    {
      "cell_type": "code",
      "source": [
        "import numpy as np\n",
        "import scipy.stats as stats\n",
        "data=np.array([[50,30,20],[30,40,30],[20,30,40]])\n",
        "chi2,p_value,_,_=stats.chi2_contingency(data)\n",
        "print(\"Chi-Square Statistic:\",chi2)\n",
        "print(\"P-Value:\",p_value)\n"
      ],
      "metadata": {
        "colab": {
          "base_uri": "https://localhost:8080/"
        },
        "id": "LVfb6Zh1A6KF",
        "outputId": "184bf49e-1577-4712-df9e-0771553241ac"
      },
      "execution_count": 34,
      "outputs": [
        {
          "output_type": "stream",
          "name": "stdout",
          "text": [
            "Chi-Square Statistic: 22.161728395061726\n",
            "P-Value: 0.00018609719479882557\n"
          ]
        }
      ]
    },
    {
      "cell_type": "markdown",
      "source": [
        " 24. A company produces three different versions of a product: Standard, Premium, and Deluxe. The\n",
        "company wants to determine if there is a significant difference in customer satisfaction scores among the\n",
        "three product versions. They conducted a survey and collected customer satisfaction scores for each\n",
        "version from a random sample of customers. Perform an ANOVA test to determine if there is a significant\n",
        "difference in customer satisfaction scores.\n",
        "\n",
        "\n",
        "  Use the following data:\n",
        "\n",
        "  ```python\n",
        "\n",
        "  # Sample data: Customer satisfaction scores for each product version\n",
        "\n",
        "  standard_scores = [80, 85, 90, 78, 88, 82, 92, 78, 85, 87]\n",
        "\n",
        "  premium_scores = [90, 92, 88, 92, 95, 91, 96, 93, 89, 93]\n",
        "\n",
        "  deluxe_scores = [95, 98, 92, 97, 96, 94, 98, 97, 92, 99]"
      ],
      "metadata": {
        "id": "udBzNSAaFPxL"
      }
    },
    {
      "cell_type": "code",
      "source": [
        "import scipy.stats as stats\n",
        "standard_scores = [80, 85, 90, 78, 88, 82, 92, 78, 85, 87]\n",
        "premium_scores = [90, 92, 88, 92, 95, 91, 96, 93, 89, 93]\n",
        "deluxe_scores = [95, 98, 92, 97, 96, 94, 98, 97, 92, 99]\n",
        "data=[standard_scores,premium_scores,deluxe_scores]\n",
        "f_statistic,p_value=stats.f_oneway(*data)\n",
        "print(\"F-Statistic:\",f_statistic)\n",
        "print(\"P-Value:\",p_value)\n"
      ],
      "metadata": {
        "colab": {
          "base_uri": "https://localhost:8080/"
        },
        "id": "agqsaMbGPPbe",
        "outputId": "c67b39fa-9a60-44b9-e916-cd50b175d18f"
      },
      "execution_count": 36,
      "outputs": [
        {
          "output_type": "stream",
          "name": "stdout",
          "text": [
            "F-Statistic: 27.03556231003039\n",
            "P-Value: 3.5786328857349003e-07\n"
          ]
        }
      ]
    }
  ]
}